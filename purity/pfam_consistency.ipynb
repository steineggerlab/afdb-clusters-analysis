{
 "cells": [
  {
   "cell_type": "code",
   "execution_count": 2,
   "metadata": {},
   "outputs": [],
   "source": [
    "# open file\n",
    "fn = \"pfamOrClan-uniprot-numHits_repId_pfamOrClan.tsv\"\n",
    "f = open(f\"../purity/{fn}\")\n",
    "\n",
    "# data\n",
    "rep_pfams = {}\n",
    "\n",
    "# read file\n",
    "while True:\n",
    "    line = f.readline().strip()\n",
    "    \n",
    "    if not line:\n",
    "        break\n",
    "        \n",
    "    tokens = line.split()\n",
    "    hit = int(tokens[0])\n",
    "    repId = tokens[1]\n",
    "    pfams = set(tokens[2].split(';')[:-1])\n",
    "    \n",
    "    if not rep_pfams.get(repId):\n",
    "        rep_pfams[repId] = []\n",
    "    \n",
    "    rep_pfams[repId].append([pfams, hit])\n",
    "\n",
    "# close file\n",
    "f.close()"
   ]
  },
  {
   "cell_type": "code",
   "execution_count": 4,
   "metadata": {},
   "outputs": [],
   "source": [
    "# count the diversity of pfam\n",
    "def compute_sum_hits(pfam_hits):\n",
    "    L = len(pfam_hits)\n",
    "    \n",
    "    sum_hits = 0\n",
    "    for i in range(L):\n",
    "        [pfam, hits] = pfam_hits[i]\n",
    "        \n",
    "        sum_hits += hits\n",
    "        \n",
    "    return sum_hits"
   ]
  },
  {
   "cell_type": "code",
   "execution_count": 7,
   "metadata": {},
   "outputs": [],
   "source": [
    "import math\n",
    "\n",
    "rep_cov = {}\n",
    "iteration = math.inf\n",
    "\n",
    "check_id = 'AF-A0A009G5I8-F1-model_v3.cif'\n",
    "\n",
    "for repId, pfam_hits in rep_pfams.items():\n",
    "    \n",
    "    # if there is only one hit at a cluster, we don't measure the consistency value\n",
    "    if compute_sum_hits(pfam_hits) < 2:\n",
    "        continue\n",
    "        \n",
    "    rep_cov[repId] = 0\n",
    "    N = len(pfam_hits)    \n",
    "    \n",
    "    repId_hits = 0\n",
    "    \n",
    "    for i in range(N):\n",
    "        pairwise_score = 0\n",
    "        \n",
    "        query_pfams = pfam_hits[i][0]\n",
    "        query_hits = pfam_hits[i][1]\n",
    "        repId_hits += query_hits\n",
    "        \n",
    "        query_N_pfams = len(query_pfams)\n",
    "        \n",
    "        for j in range(N):\n",
    "            coverage = 0\n",
    "            target_pfams = pfam_hits[j][0]\n",
    "            target_hits = pfam_hits[j][1]\n",
    "            \n",
    "            # w/o self-pair\n",
    "            if i == j :\n",
    "                target_hits -= 1\n",
    "            \n",
    "            for pfam in query_pfams:\n",
    "                if pfam in target_pfams:\n",
    "                    coverage += 1\n",
    "            \n",
    "            coverage = coverage/ query_N_pfams * target_hits\n",
    "            pairwise_score += coverage\n",
    "        \n",
    "        pairwise_score *= query_hits\n",
    "        rep_cov[repId] += pairwise_score\n",
    "    \n",
    "    rep_cov[repId] /= (repId_hits**2 - repId_hits)\n"
   ]
  },
  {
   "cell_type": "code",
   "execution_count": 8,
   "metadata": {},
   "outputs": [],
   "source": [
    "fon = \"pfam-consistency_repId_cov.tsv\"\n",
    "fo = open(f'../purity/{fon}', 'w')\n",
    "\n",
    "for key, value in rep_cov.items():\n",
    "    fo.write(f'{key}\\t{value}\\n')\n",
    "\n",
    "fo.close()"
   ]
  },
  {
   "cell_type": "code",
   "execution_count": null,
   "metadata": {},
   "outputs": [],
   "source": []
  }
 ],
 "metadata": {
  "kernelspec": {
   "display_name": "tutorial",
   "language": "python",
   "name": "python3"
  },
  "language_info": {
   "codemirror_mode": {
    "name": "ipython",
    "version": 3
   },
   "file_extension": ".py",
   "mimetype": "text/x-python",
   "name": "python",
   "nbconvert_exporter": "python",
   "pygments_lexer": "ipython3",
   "version": "3.10.6"
  },
  "orig_nbformat": 4
 },
 "nbformat": 4,
 "nbformat_minor": 2
}
