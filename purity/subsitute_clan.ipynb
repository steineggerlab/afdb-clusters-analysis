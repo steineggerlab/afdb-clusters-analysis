{
 "cells": [
  {
   "cell_type": "code",
   "execution_count": 4,
   "metadata": {},
   "outputs": [],
   "source": [
    "# open file\n",
    "fcn = \"pfam-clan.tsv\"\n",
    "fc = open(f'../purity/{fcn}')\n",
    "\n",
    "# data\n",
    "pfam_clan = {}\n",
    "\n",
    "# read file\n",
    "while True:\n",
    "    line = fc.readline().strip()\n",
    "    \n",
    "    if not line:\n",
    "        break\n",
    "        \n",
    "    tokens = line.split()\n",
    "    \n",
    "    pfam = tokens[0]\n",
    "    clan = tokens[1]\n",
    "    \n",
    "    pfam_clan[pfam] = clan\n",
    "\n",
    "# close file\n",
    "fc.close()"
   ]
  },
  {
   "cell_type": "code",
   "execution_count": 6,
   "metadata": {},
   "outputs": [],
   "source": [
    "# open file\n",
    "fn = \"pfam-uniprot-numHits_repId_pfams.tsv\"\n",
    "f = open(f'../darkening/ftp_pfam_tigrfam/{fn}')\n",
    "\n",
    "# data\n",
    "lines = []\n",
    "\n",
    "# read file & clan substitution\n",
    "while True:\n",
    "    line = f.readline().strip()\n",
    "    \n",
    "    if not line:\n",
    "        break\n",
    "        \n",
    "    tokens = line.split()\n",
    "    \n",
    "    numHit = tokens[0]\n",
    "    repId = tokens[1]\n",
    "    pfams = tokens[2].split(';')[:-1]\n",
    "    \n",
    "    for i in range(len(pfams)):\n",
    "        pfam = pfams[i]\n",
    "        \n",
    "        if pfam_clan.get(pfam):\n",
    "            pfams[i] = pfam_clan[pfam]\n",
    "    \n",
    "    pfam_string = ';'.join(pfams)\n",
    "    \n",
    "    lines.append(f'{numHit}\\t{repId}\\t{pfam_string};')\n",
    "\n",
    "# close file\n",
    "f.close()"
   ]
  },
  {
   "cell_type": "code",
   "execution_count": 7,
   "metadata": {},
   "outputs": [],
   "source": [
    "fon = \"pfamOrClan-uniprot-numHits_repId_pfamOrClan.tsv\"\n",
    "fo = open(f'../purity/{fon}', 'w')\n",
    "\n",
    "for line in lines:\n",
    "    fo.write(f'{line}\\n')\n",
    "\n",
    "fo.close()"
   ]
  }
 ],
 "metadata": {
  "kernelspec": {
   "display_name": "Python 3",
   "language": "python",
   "name": "python3"
  },
  "language_info": {
   "codemirror_mode": {
    "name": "ipython",
    "version": 3
   },
   "file_extension": ".py",
   "mimetype": "text/x-python",
   "name": "python",
   "nbconvert_exporter": "python",
   "pygments_lexer": "ipython3",
   "version": "3.10.6"
  },
  "orig_nbformat": 4
 },
 "nbformat": 4,
 "nbformat_minor": 2
}
